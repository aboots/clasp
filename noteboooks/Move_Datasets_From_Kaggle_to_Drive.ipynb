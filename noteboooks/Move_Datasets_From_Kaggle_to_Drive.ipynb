{
  "nbformat": 4,
  "nbformat_minor": 0,
  "metadata": {
    "colab": {
      "provenance": []
    },
    "kernelspec": {
      "name": "python3",
      "display_name": "Python 3"
    },
    "language_info": {
      "name": "python"
    }
  },
  "cells": [
    {
      "cell_type": "code",
      "source": [
        "from google.colab import drive\n",
        "drive.mount('/content/drive')"
      ],
      "metadata": {
        "colab": {
          "base_uri": "https://localhost:8080/"
        },
        "id": "-ExAKSWUsbZf",
        "outputId": "791cd070-becf-4fd3-c861-c7ac3cf9cf02"
      },
      "execution_count": null,
      "outputs": [
        {
          "output_type": "stream",
          "name": "stdout",
          "text": [
            "Mounted at /content/drive\n"
          ]
        }
      ]
    },
    {
      "cell_type": "markdown",
      "source": [
        "## Models"
      ],
      "metadata": {
        "id": "4rXxSz24nqKw"
      }
    },
    {
      "cell_type": "code",
      "execution_count": null,
      "metadata": {
        "id": "dzMyjdBnr2zO",
        "colab": {
          "base_uri": "https://localhost:8080/"
        },
        "outputId": "04d11416-28f8-45bb-d921-dc88ad158b7b"
      },
      "outputs": [
        {
          "output_type": "stream",
          "name": "stdout",
          "text": [
            "--2023-03-09 23:25:44--  https://kkb-production.jupyter-proxy.kaggle.net/k/121600734/eyJhbGciOiJkaXIiLCJlbmMiOiJBMTI4Q0JDLUhTMjU2IiwidHlwIjoiSldUIn0..3FofaF5HYqtuoleiVy8A4Q.oeFYHfTcucaEnwCrEhSG-6VljO5ZndUKZZJ6VZx-MNIpj4fKT4eDx3pv_Cd4lYE2EKLlz3KQMQUKhNqaYAJ0LEqvhQ_Pv7KSxX_9d7bN_NEhyJKGTxTwHLT76gEal7QapmMl7hOx2yB3iHd4Uz8OAda5E0TnG0zjBaAVylh-QohDmHOtM4rHYo4BuaHXCdO_VOFStO6erw27eaTvVyKOqw.UHsu8OfUjHFH1RyEuNT2PA/proxy/files/final_relevant_model_v2.pt\n",
            "Resolving kkb-production.jupyter-proxy.kaggle.net (kkb-production.jupyter-proxy.kaggle.net)... 35.244.180.134\n",
            "Connecting to kkb-production.jupyter-proxy.kaggle.net (kkb-production.jupyter-proxy.kaggle.net)|35.244.180.134|:443... connected.\n",
            "HTTP request sent, awaiting response... 200 OK\n",
            "Length: 845675119 (806M) [application/octet-stream]\n",
            "Saving to: ‘final_relevant_model_v2.pt’\n",
            "\n",
            "final_relevant_mode 100%[===================>] 806.50M  54.4MB/s    in 17s     \n",
            "\n",
            "2023-03-09 23:26:01 (48.0 MB/s) - ‘final_relevant_model_v2.pt’ saved [845675119/845675119]\n",
            "\n"
          ]
        }
      ],
      "source": [
        "!wget https://kkb-production.jupyter-proxy.kaggle.net/k/121600734/eyJhbGciOiJkaXIiLCJlbmMiOiJBMTI4Q0JDLUhTMjU2IiwidHlwIjoiSldUIn0..3FofaF5HYqtuoleiVy8A4Q.oeFYHfTcucaEnwCrEhSG-6VljO5ZndUKZZJ6VZx-MNIpj4fKT4eDx3pv_Cd4lYE2EKLlz3KQMQUKhNqaYAJ0LEqvhQ_Pv7KSxX_9d7bN_NEhyJKGTxTwHLT76gEal7QapmMl7hOx2yB3iHd4Uz8OAda5E0TnG0zjBaAVylh-QohDmHOtM4rHYo4BuaHXCdO_VOFStO6erw27eaTvVyKOqw.UHsu8OfUjHFH1RyEuNT2PA/proxy/files/final_relevant_model_v2.pt"
      ]
    },
    {
      "cell_type": "code",
      "source": [
        "!cp \"/content/final_relevant_model_v2.pt\" \"/content/drive/MyDrive/NLP_PROJECT/Final_Model/final_relevant_model_v2.pt\""
      ],
      "metadata": {
        "id": "dz14-8xTss14"
      },
      "execution_count": null,
      "outputs": []
    },
    {
      "cell_type": "code",
      "source": [
        "!wget https://kkb-production.jupyter-proxy.kaggle.net/k/121600734/eyJhbGciOiJkaXIiLCJlbmMiOiJBMTI4Q0JDLUhTMjU2IiwidHlwIjoiSldUIn0..3FofaF5HYqtuoleiVy8A4Q.oeFYHfTcucaEnwCrEhSG-6VljO5ZndUKZZJ6VZx-MNIpj4fKT4eDx3pv_Cd4lYE2EKLlz3KQMQUKhNqaYAJ0LEqvhQ_Pv7KSxX_9d7bN_NEhyJKGTxTwHLT76gEal7QapmMl7hOx2yB3iHd4Uz8OAda5E0TnG0zjBaAVylh-QohDmHOtM4rHYo4BuaHXCdO_VOFStO6erw27eaTvVyKOqw.UHsu8OfUjHFH1RyEuNT2PA/proxy/files/multimodal_model.pt"
      ],
      "metadata": {
        "colab": {
          "base_uri": "https://localhost:8080/"
        },
        "id": "pAXVVUxSs-NS",
        "outputId": "2e3ae7b7-3d1b-4465-adc2-7fa7c4252d50"
      },
      "execution_count": null,
      "outputs": [
        {
          "output_type": "stream",
          "name": "stdout",
          "text": [
            "--2023-03-09 23:30:33--  https://kkb-production.jupyter-proxy.kaggle.net/k/121600734/eyJhbGciOiJkaXIiLCJlbmMiOiJBMTI4Q0JDLUhTMjU2IiwidHlwIjoiSldUIn0..3FofaF5HYqtuoleiVy8A4Q.oeFYHfTcucaEnwCrEhSG-6VljO5ZndUKZZJ6VZx-MNIpj4fKT4eDx3pv_Cd4lYE2EKLlz3KQMQUKhNqaYAJ0LEqvhQ_Pv7KSxX_9d7bN_NEhyJKGTxTwHLT76gEal7QapmMl7hOx2yB3iHd4Uz8OAda5E0TnG0zjBaAVylh-QohDmHOtM4rHYo4BuaHXCdO_VOFStO6erw27eaTvVyKOqw.UHsu8OfUjHFH1RyEuNT2PA/proxy/files/multimodal_model.pt\n",
            "Resolving kkb-production.jupyter-proxy.kaggle.net (kkb-production.jupyter-proxy.kaggle.net)... 35.244.180.134\n",
            "Connecting to kkb-production.jupyter-proxy.kaggle.net (kkb-production.jupyter-proxy.kaggle.net)|35.244.180.134|:443... connected.\n",
            "HTTP request sent, awaiting response... 200 OK\n",
            "Length: 10681807 (10M) [application/octet-stream]\n",
            "Saving to: ‘multimodal_model.pt’\n",
            "\n",
            "multimodal_model.pt 100%[===================>]  10.19M  29.3MB/s    in 0.3s    \n",
            "\n",
            "2023-03-09 23:30:33 (29.3 MB/s) - ‘multimodal_model.pt’ saved [10681807/10681807]\n",
            "\n"
          ]
        }
      ]
    },
    {
      "cell_type": "code",
      "source": [
        "!cp \"/content/multimodal_model.pt\" \"/content/drive/MyDrive/NLP_PROJECT/Final_Model/multimodal_model.pt\""
      ],
      "metadata": {
        "id": "Jig8WJWytkBV"
      },
      "execution_count": null,
      "outputs": []
    },
    {
      "cell_type": "markdown",
      "source": [
        "## Datasets"
      ],
      "metadata": {
        "id": "wjGZBwzwntZI"
      }
    },
    {
      "cell_type": "code",
      "source": [
        "!wget https://kkb-production.jupyter-proxy.kaggle.net/k/121653712/eyJhbGciOiJkaXIiLCJlbmMiOiJBMTI4Q0JDLUhTMjU2IiwidHlwIjoiSldUIn0..Y7M3mTNub3qKSGHGmw1EDA.HMGDNEQhHHU50HPLRI61t1tIBk1cjLHzF8Lx3dPJeaEsH40xf9CoD2eE1sAKZG5pVj0GPNKwHNdOFDmvzbEdp7E7ZtO3Eg0RuzYhmDj-0R2K2_Le2CASxRGUDPwzClsPQvA8M1W4wvY5U6ZJbg607Sm2mnE1DNinloqKZ8SGNB4nSBkwosCO54Hm-VbMIiuzyAJeOMru21fP5SzQAVM0sQ.R809LL-2HZ38pL__h9_rZQ/proxy/files/train_dataset.pkl"
      ],
      "metadata": {
        "id": "8q8RMk3Htqc5",
        "colab": {
          "base_uri": "https://localhost:8080/"
        },
        "outputId": "3ae4d9a6-88c1-4fb6-e4bb-2900f2f72467"
      },
      "execution_count": null,
      "outputs": [
        {
          "output_type": "stream",
          "name": "stdout",
          "text": [
            "--2023-03-10 10:16:44--  https://kkb-production.jupyter-proxy.kaggle.net/k/121653712/eyJhbGciOiJkaXIiLCJlbmMiOiJBMTI4Q0JDLUhTMjU2IiwidHlwIjoiSldUIn0..Y7M3mTNub3qKSGHGmw1EDA.HMGDNEQhHHU50HPLRI61t1tIBk1cjLHzF8Lx3dPJeaEsH40xf9CoD2eE1sAKZG5pVj0GPNKwHNdOFDmvzbEdp7E7ZtO3Eg0RuzYhmDj-0R2K2_Le2CASxRGUDPwzClsPQvA8M1W4wvY5U6ZJbg607Sm2mnE1DNinloqKZ8SGNB4nSBkwosCO54Hm-VbMIiuzyAJeOMru21fP5SzQAVM0sQ.R809LL-2HZ38pL__h9_rZQ/proxy/files/train_dataset.pkl\n",
            "Resolving kkb-production.jupyter-proxy.kaggle.net (kkb-production.jupyter-proxy.kaggle.net)... 35.244.180.134\n",
            "Connecting to kkb-production.jupyter-proxy.kaggle.net (kkb-production.jupyter-proxy.kaggle.net)|35.244.180.134|:443... connected.\n",
            "HTTP request sent, awaiting response... 200 OK\n",
            "Length: 3866014013 (3.6G) [application/octet-stream]\n",
            "Saving to: ‘train_dataset.pkl’\n",
            "\n",
            "train_dataset.pkl   100%[===================>]   3.60G  24.8MB/s    in 2m 30s  \n",
            "\n",
            "2023-03-10 10:19:14 (24.5 MB/s) - ‘train_dataset.pkl’ saved [3866014013/3866014013]\n",
            "\n"
          ]
        }
      ]
    },
    {
      "cell_type": "code",
      "source": [
        "!cp \"/content/train_dataset.pkl\" \"/content/drive/MyDrive/NLP_PROJECT/Final_English_Dataset/train_dataset.pkl\""
      ],
      "metadata": {
        "id": "Whws82OBn816"
      },
      "execution_count": null,
      "outputs": []
    },
    {
      "cell_type": "code",
      "source": [
        "!wget https://kkb-production.jupyter-proxy.kaggle.net/k/121653712/eyJhbGciOiJkaXIiLCJlbmMiOiJBMTI4Q0JDLUhTMjU2IiwidHlwIjoiSldUIn0..Y7M3mTNub3qKSGHGmw1EDA.HMGDNEQhHHU50HPLRI61t1tIBk1cjLHzF8Lx3dPJeaEsH40xf9CoD2eE1sAKZG5pVj0GPNKwHNdOFDmvzbEdp7E7ZtO3Eg0RuzYhmDj-0R2K2_Le2CASxRGUDPwzClsPQvA8M1W4wvY5U6ZJbg607Sm2mnE1DNinloqKZ8SGNB4nSBkwosCO54Hm-VbMIiuzyAJeOMru21fP5SzQAVM0sQ.R809LL-2HZ38pL__h9_rZQ/proxy/files/test_dataset.pkl"
      ],
      "metadata": {
        "colab": {
          "base_uri": "https://localhost:8080/"
        },
        "id": "7R6LPmGtBxfk",
        "outputId": "db0900b8-e4c7-4884-b454-98fe38b8e111"
      },
      "execution_count": null,
      "outputs": [
        {
          "output_type": "stream",
          "name": "stdout",
          "text": [
            "--2023-03-10 10:19:44--  https://kkb-production.jupyter-proxy.kaggle.net/k/121653712/eyJhbGciOiJkaXIiLCJlbmMiOiJBMTI4Q0JDLUhTMjU2IiwidHlwIjoiSldUIn0..Y7M3mTNub3qKSGHGmw1EDA.HMGDNEQhHHU50HPLRI61t1tIBk1cjLHzF8Lx3dPJeaEsH40xf9CoD2eE1sAKZG5pVj0GPNKwHNdOFDmvzbEdp7E7ZtO3Eg0RuzYhmDj-0R2K2_Le2CASxRGUDPwzClsPQvA8M1W4wvY5U6ZJbg607Sm2mnE1DNinloqKZ8SGNB4nSBkwosCO54Hm-VbMIiuzyAJeOMru21fP5SzQAVM0sQ.R809LL-2HZ38pL__h9_rZQ/proxy/files/test_dataset.pkl\n",
            "Resolving kkb-production.jupyter-proxy.kaggle.net (kkb-production.jupyter-proxy.kaggle.net)... 35.244.180.134\n",
            "Connecting to kkb-production.jupyter-proxy.kaggle.net (kkb-production.jupyter-proxy.kaggle.net)|35.244.180.134|:443... connected.\n",
            "HTTP request sent, awaiting response... 200 OK\n",
            "Length: 475641860 (454M) [application/octet-stream]\n",
            "Saving to: ‘test_dataset.pkl’\n",
            "\n",
            "test_dataset.pkl    100%[===================>] 453.61M  25.0MB/s    in 19s     \n",
            "\n",
            "2023-03-10 10:20:04 (23.3 MB/s) - ‘test_dataset.pkl’ saved [475641860/475641860]\n",
            "\n"
          ]
        }
      ]
    },
    {
      "cell_type": "code",
      "source": [
        "!cp \"/content/test_dataset.pkl\" \"/content/drive/MyDrive/NLP_PROJECT/Final_English_Dataset/test_dataset.pkl\""
      ],
      "metadata": {
        "id": "VkC6tLz3B2-U"
      },
      "execution_count": null,
      "outputs": []
    },
    {
      "cell_type": "code",
      "source": [
        "!wget https://kkb-production.jupyter-proxy.kaggle.net/k/121653712/eyJhbGciOiJkaXIiLCJlbmMiOiJBMTI4Q0JDLUhTMjU2IiwidHlwIjoiSldUIn0..Y7M3mTNub3qKSGHGmw1EDA.HMGDNEQhHHU50HPLRI61t1tIBk1cjLHzF8Lx3dPJeaEsH40xf9CoD2eE1sAKZG5pVj0GPNKwHNdOFDmvzbEdp7E7ZtO3Eg0RuzYhmDj-0R2K2_Le2CASxRGUDPwzClsPQvA8M1W4wvY5U6ZJbg607Sm2mnE1DNinloqKZ8SGNB4nSBkwosCO54Hm-VbMIiuzyAJeOMru21fP5SzQAVM0sQ.R809LL-2HZ38pL__h9_rZQ/proxy/files/test_dataset_with_negative_samples.pkl"
      ],
      "metadata": {
        "colab": {
          "base_uri": "https://localhost:8080/"
        },
        "id": "dyaKGkZYB63Q",
        "outputId": "514caad2-0a30-4719-c756-74c6de5e53a7"
      },
      "execution_count": null,
      "outputs": [
        {
          "output_type": "stream",
          "name": "stdout",
          "text": [
            "--2023-03-10 10:20:32--  https://kkb-production.jupyter-proxy.kaggle.net/k/121653712/eyJhbGciOiJkaXIiLCJlbmMiOiJBMTI4Q0JDLUhTMjU2IiwidHlwIjoiSldUIn0..Y7M3mTNub3qKSGHGmw1EDA.HMGDNEQhHHU50HPLRI61t1tIBk1cjLHzF8Lx3dPJeaEsH40xf9CoD2eE1sAKZG5pVj0GPNKwHNdOFDmvzbEdp7E7ZtO3Eg0RuzYhmDj-0R2K2_Le2CASxRGUDPwzClsPQvA8M1W4wvY5U6ZJbg607Sm2mnE1DNinloqKZ8SGNB4nSBkwosCO54Hm-VbMIiuzyAJeOMru21fP5SzQAVM0sQ.R809LL-2HZ38pL__h9_rZQ/proxy/files/test_dataset_with_negative_samples.pkl\n",
            "Resolving kkb-production.jupyter-proxy.kaggle.net (kkb-production.jupyter-proxy.kaggle.net)... 35.244.180.134\n",
            "Connecting to kkb-production.jupyter-proxy.kaggle.net (kkb-production.jupyter-proxy.kaggle.net)|35.244.180.134|:443... connected.\n",
            "HTTP request sent, awaiting response... 200 OK\n",
            "Length: 475651363 (454M) [application/octet-stream]\n",
            "Saving to: ‘test_dataset_with_negative_samples.pkl’\n",
            "\n",
            "test_dataset_with_n 100%[===================>] 453.62M  25.0MB/s    in 19s     \n",
            "\n",
            "2023-03-10 10:20:51 (23.7 MB/s) - ‘test_dataset_with_negative_samples.pkl’ saved [475651363/475651363]\n",
            "\n"
          ]
        }
      ]
    },
    {
      "cell_type": "code",
      "source": [
        "!cp \"/content/test_dataset_with_negative_samples.pkl\" \"/content/drive/MyDrive/NLP_PROJECT/Final_English_Dataset/test_dataset_with_negative_samples.pkl\""
      ],
      "metadata": {
        "id": "qYWCdYBQB70_"
      },
      "execution_count": null,
      "outputs": []
    },
    {
      "cell_type": "code",
      "source": [
        "!wget https://kkb-production.jupyter-proxy.kaggle.net/k/121653712/eyJhbGciOiJkaXIiLCJlbmMiOiJBMTI4Q0JDLUhTMjU2IiwidHlwIjoiSldUIn0..Y7M3mTNub3qKSGHGmw1EDA.HMGDNEQhHHU50HPLRI61t1tIBk1cjLHzF8Lx3dPJeaEsH40xf9CoD2eE1sAKZG5pVj0GPNKwHNdOFDmvzbEdp7E7ZtO3Eg0RuzYhmDj-0R2K2_Le2CASxRGUDPwzClsPQvA8M1W4wvY5U6ZJbg607Sm2mnE1DNinloqKZ8SGNB4nSBkwosCO54Hm-VbMIiuzyAJeOMru21fP5SzQAVM0sQ.R809LL-2HZ38pL__h9_rZQ/proxy/files/validation_dataset.pkl"
      ],
      "metadata": {
        "colab": {
          "base_uri": "https://localhost:8080/"
        },
        "id": "lxhGh-rVCEQN",
        "outputId": "9fa7500f-8168-4f02-fad3-3a594f6a9787"
      },
      "execution_count": null,
      "outputs": [
        {
          "output_type": "stream",
          "name": "stdout",
          "text": [
            "--2023-03-10 10:20:54--  https://kkb-production.jupyter-proxy.kaggle.net/k/121653712/eyJhbGciOiJkaXIiLCJlbmMiOiJBMTI4Q0JDLUhTMjU2IiwidHlwIjoiSldUIn0..Y7M3mTNub3qKSGHGmw1EDA.HMGDNEQhHHU50HPLRI61t1tIBk1cjLHzF8Lx3dPJeaEsH40xf9CoD2eE1sAKZG5pVj0GPNKwHNdOFDmvzbEdp7E7ZtO3Eg0RuzYhmDj-0R2K2_Le2CASxRGUDPwzClsPQvA8M1W4wvY5U6ZJbg607Sm2mnE1DNinloqKZ8SGNB4nSBkwosCO54Hm-VbMIiuzyAJeOMru21fP5SzQAVM0sQ.R809LL-2HZ38pL__h9_rZQ/proxy/files/validation_dataset.pkl\n",
            "Resolving kkb-production.jupyter-proxy.kaggle.net (kkb-production.jupyter-proxy.kaggle.net)... 35.244.180.134\n",
            "Connecting to kkb-production.jupyter-proxy.kaggle.net (kkb-production.jupyter-proxy.kaggle.net)|35.244.180.134|:443... connected.\n",
            "HTTP request sent, awaiting response... 200 OK\n",
            "Length: 466240740 (445M) [application/octet-stream]\n",
            "Saving to: ‘validation_dataset.pkl’\n",
            "\n",
            "validation_dataset. 100%[===================>] 444.64M  22.8MB/s    in 19s     \n",
            "\n",
            "2023-03-10 10:21:13 (23.2 MB/s) - ‘validation_dataset.pkl’ saved [466240740/466240740]\n",
            "\n"
          ]
        }
      ]
    },
    {
      "cell_type": "code",
      "source": [
        "!cp \"/content/validation_dataset.pkl\" \"/content/drive/MyDrive/NLP_PROJECT/Final_English_Dataset/validation_dataset.pkl\""
      ],
      "metadata": {
        "id": "BEjRLZ9UCHIf"
      },
      "execution_count": null,
      "outputs": []
    },
    {
      "cell_type": "code",
      "source": [],
      "metadata": {
        "id": "Aw3RcFr6OCtg"
      },
      "execution_count": null,
      "outputs": []
    },
    {
      "cell_type": "code",
      "source": [
        "!wget https://kkb-production.jupyter-proxy.kaggle.net/k/136175580/eyJhbGciOiJkaXIiLCJlbmMiOiJBMTI4Q0JDLUhTMjU2IiwidHlwIjoiSldUIn0..BvRm4TtnbVE1IDYt5BM50w.Xou204nEfqOsKpQknhAGkPKLFkzoIknzI19Pfpk8h03-ZPfMWTXO7pYOdDa73Emw3SIN5rjmx9Q-oMkHw-t_ZLNE8PM_HMN8G1mkAGnEIrZxTCD7tlJhxLHA5pTIAeML6RD4-1lyarfWh-XZLv-NHr-nfE5KXMqAipTAHht71QLxOjBjgWVE5LDfhHq8OruNjR4ukByq91kbftAI_fl5lA.idDGa-yFccnUzJil5oNwAg/proxy/files/image_model_dataset.pkl"
      ],
      "metadata": {
        "colab": {
          "base_uri": "https://localhost:8080/"
        },
        "id": "lOdjYtc7OCwT",
        "outputId": "efe4616d-592b-44a4-86e9-b080fa82d4b3"
      },
      "execution_count": null,
      "outputs": [
        {
          "output_type": "stream",
          "name": "stdout",
          "text": [
            "--2023-07-09 10:46:37--  https://kkb-production.jupyter-proxy.kaggle.net/k/136175580/eyJhbGciOiJkaXIiLCJlbmMiOiJBMTI4Q0JDLUhTMjU2IiwidHlwIjoiSldUIn0..BvRm4TtnbVE1IDYt5BM50w.Xou204nEfqOsKpQknhAGkPKLFkzoIknzI19Pfpk8h03-ZPfMWTXO7pYOdDa73Emw3SIN5rjmx9Q-oMkHw-t_ZLNE8PM_HMN8G1mkAGnEIrZxTCD7tlJhxLHA5pTIAeML6RD4-1lyarfWh-XZLv-NHr-nfE5KXMqAipTAHht71QLxOjBjgWVE5LDfhHq8OruNjR4ukByq91kbftAI_fl5lA.idDGa-yFccnUzJil5oNwAg/proxy/files/image_model_dataset.pkl\n",
            "Resolving kkb-production.jupyter-proxy.kaggle.net (kkb-production.jupyter-proxy.kaggle.net)... 35.244.180.134\n",
            "Connecting to kkb-production.jupyter-proxy.kaggle.net (kkb-production.jupyter-proxy.kaggle.net)|35.244.180.134|:443... connected.\n",
            "HTTP request sent, awaiting response... 200 OK\n",
            "Length: 109779399 (105M) [application/octet-stream]\n",
            "Saving to: ‘image_model_dataset.pkl’\n",
            "\n",
            "image_model_dataset 100%[===================>] 104.69M  34.6MB/s    in 3.0s    \n",
            "\n",
            "2023-07-09 10:46:40 (34.6 MB/s) - ‘image_model_dataset.pkl’ saved [109779399/109779399]\n",
            "\n"
          ]
        }
      ]
    },
    {
      "cell_type": "code",
      "source": [
        "!cp \"/content/image_model_dataset.pkl\" \"/content/drive/MyDrive/NLP/image_model_dataset.pkl\""
      ],
      "metadata": {
        "id": "3qBxVqYkOCzL"
      },
      "execution_count": null,
      "outputs": []
    },
    {
      "cell_type": "code",
      "source": [
        "!wget https://kkb-production.jupyter-proxy.kaggle.net/k/136991950/eyJhbGciOiJkaXIiLCJlbmMiOiJBMTI4Q0JDLUhTMjU2IiwidHlwIjoiSldUIn0..uQYOlHxK3tYFPSJEfKsYZA.YEqMG9DTvLRGF8R-2u3_5rHKq8fpE4SDuxbDIW9X9Ytb7GjdlRs6Xs5_lOIM1_E2mW14vTMy3FMSlZZr6mwin_328txnbVW4-UvZbDtm_YgRbbO0x2y4pJwUNGkmZ-lDoGkqBva7yu4QJgIAiU622CjuYd24A8umD0vrRrC2PDQ2yyUM9K-qWBAuyJ4V9VtdFtdYWhup_eGsBpqNvCc7lw.Mhcikh2hM7O0v06y4sVWHw/proxy/files/pretrained_embeddings_part1.pkl"
      ],
      "metadata": {
        "id": "PLcCA8c6CV5x",
        "colab": {
          "base_uri": "https://localhost:8080/"
        },
        "outputId": "8aadb9b8-adfb-40fb-866a-26097da8ddd8"
      },
      "execution_count": null,
      "outputs": [
        {
          "output_type": "stream",
          "name": "stdout",
          "text": [
            "--2023-07-17 05:41:01--  https://kkb-production.jupyter-proxy.kaggle.net/k/136991950/eyJhbGciOiJkaXIiLCJlbmMiOiJBMTI4Q0JDLUhTMjU2IiwidHlwIjoiSldUIn0..uQYOlHxK3tYFPSJEfKsYZA.YEqMG9DTvLRGF8R-2u3_5rHKq8fpE4SDuxbDIW9X9Ytb7GjdlRs6Xs5_lOIM1_E2mW14vTMy3FMSlZZr6mwin_328txnbVW4-UvZbDtm_YgRbbO0x2y4pJwUNGkmZ-lDoGkqBva7yu4QJgIAiU622CjuYd24A8umD0vrRrC2PDQ2yyUM9K-qWBAuyJ4V9VtdFtdYWhup_eGsBpqNvCc7lw.Mhcikh2hM7O0v06y4sVWHw/proxy/files/pretrained_embeddings_part1.pkl\n",
            "Resolving kkb-production.jupyter-proxy.kaggle.net (kkb-production.jupyter-proxy.kaggle.net)... 35.244.180.134\n",
            "Connecting to kkb-production.jupyter-proxy.kaggle.net (kkb-production.jupyter-proxy.kaggle.net)|35.244.180.134|:443... connected.\n",
            "HTTP request sent, awaiting response... 200 OK\n",
            "Length: 60579600 (58M) [application/octet-stream]\n",
            "Saving to: ‘pretrained_embeddings_part1.pkl’\n",
            "\n",
            "pretrained_embeddin 100%[===================>]  57.77M  56.3MB/s    in 1.0s    \n",
            "\n",
            "2023-07-17 05:41:02 (56.3 MB/s) - ‘pretrained_embeddings_part1.pkl’ saved [60579600/60579600]\n",
            "\n"
          ]
        }
      ]
    },
    {
      "cell_type": "code",
      "source": [
        "!cp \"/content/pretrained_embeddings_part1.pkl\" \"/content/drive/MyDrive/NLP/pretrained_embeddings_part1.pkl\""
      ],
      "metadata": {
        "id": "Hfe6oz4wXb6N"
      },
      "execution_count": null,
      "outputs": []
    },
    {
      "cell_type": "code",
      "source": [
        "!wget \"https://kkb-production.jupyter-proxy.kaggle.net/k/137021302/eyJhbGciOiJkaXIiLCJlbmMiOiJBMTI4Q0JDLUhTMjU2IiwidHlwIjoiSldUIn0..3UJKken_TXn4_HRXYglXpg.w7KUETmrwd4U3d2RtmzmsljJFT4jguP1AbqS_Ci0EcPYwvWoF4swa_70G0pRbWeZm8vCOWzh-GbAkdu4NCrjCdVozaZ3ee08f__TkhWwtbu1la62t5KtdLTzqZhYgQ8ty31J16XWKGMbkkWVke5xaQ3UtjwrFFtGpOzuIqW__ubCZAlygg85cjUj21VtZB39nebah17sSmL_QErmfkuexQ.NJsaR1sLZvy8diMi2BMzWg/proxy/files/pretrained_embeddings_part2.pkl\""
      ],
      "metadata": {
        "colab": {
          "base_uri": "https://localhost:8080/"
        },
        "id": "K8QTwV9_Xkma",
        "outputId": "b144cf48-bea1-4241-e766-b9e646827a0a"
      },
      "execution_count": null,
      "outputs": [
        {
          "output_type": "stream",
          "name": "stdout",
          "text": [
            "--2023-07-17 10:18:38--  https://kkb-production.jupyter-proxy.kaggle.net/k/137021302/eyJhbGciOiJkaXIiLCJlbmMiOiJBMTI4Q0JDLUhTMjU2IiwidHlwIjoiSldUIn0..3UJKken_TXn4_HRXYglXpg.w7KUETmrwd4U3d2RtmzmsljJFT4jguP1AbqS_Ci0EcPYwvWoF4swa_70G0pRbWeZm8vCOWzh-GbAkdu4NCrjCdVozaZ3ee08f__TkhWwtbu1la62t5KtdLTzqZhYgQ8ty31J16XWKGMbkkWVke5xaQ3UtjwrFFtGpOzuIqW__ubCZAlygg85cjUj21VtZB39nebah17sSmL_QErmfkuexQ.NJsaR1sLZvy8diMi2BMzWg/proxy/files/pretrained_embeddings_part2.pkl\n",
            "Resolving kkb-production.jupyter-proxy.kaggle.net (kkb-production.jupyter-proxy.kaggle.net)... 35.244.180.134\n",
            "Connecting to kkb-production.jupyter-proxy.kaggle.net (kkb-production.jupyter-proxy.kaggle.net)|35.244.180.134|:443... connected.\n",
            "HTTP request sent, awaiting response... 200 OK\n",
            "Length: 57304562 (55M) [application/octet-stream]\n",
            "Saving to: ‘pretrained_embeddings_part2.pkl.1’\n",
            "\n",
            "pretrained_embeddin 100%[===================>]  54.65M  55.5MB/s    in 1.0s    \n",
            "\n",
            "2023-07-17 10:18:40 (55.5 MB/s) - ‘pretrained_embeddings_part2.pkl.1’ saved [57304562/57304562]\n",
            "\n"
          ]
        }
      ]
    },
    {
      "cell_type": "code",
      "source": [
        "!cp \"/content/pretrained_embeddings_part2.pkl\" \"/content/drive/MyDrive/NLP/pretrained_embeddings_part2.pkl\""
      ],
      "metadata": {
        "id": "yAQJoTR3V5Pe"
      },
      "execution_count": null,
      "outputs": []
    },
    {
      "cell_type": "code",
      "source": [
        "!wget \"https://kkb-production.jupyter-proxy.kaggle.net/k/137021302/eyJhbGciOiJkaXIiLCJlbmMiOiJBMTI4Q0JDLUhTMjU2IiwidHlwIjoiSldUIn0..3UJKken_TXn4_HRXYglXpg.w7KUETmrwd4U3d2RtmzmsljJFT4jguP1AbqS_Ci0EcPYwvWoF4swa_70G0pRbWeZm8vCOWzh-GbAkdu4NCrjCdVozaZ3ee08f__TkhWwtbu1la62t5KtdLTzqZhYgQ8ty31J16XWKGMbkkWVke5xaQ3UtjwrFFtGpOzuIqW__ubCZAlygg85cjUj21VtZB39nebah17sSmL_QErmfkuexQ.NJsaR1sLZvy8diMi2BMzWg/proxy/files/pretrained_embeddings_part3.pkl\""
      ],
      "metadata": {
        "colab": {
          "base_uri": "https://localhost:8080/"
        },
        "id": "pTEziowSWZgE",
        "outputId": "57929780-3ef0-47db-8595-1451e056a11b"
      },
      "execution_count": null,
      "outputs": [
        {
          "output_type": "stream",
          "name": "stdout",
          "text": [
            "--2023-07-17 12:13:52--  https://kkb-production.jupyter-proxy.kaggle.net/k/137021302/eyJhbGciOiJkaXIiLCJlbmMiOiJBMTI4Q0JDLUhTMjU2IiwidHlwIjoiSldUIn0..3UJKken_TXn4_HRXYglXpg.w7KUETmrwd4U3d2RtmzmsljJFT4jguP1AbqS_Ci0EcPYwvWoF4swa_70G0pRbWeZm8vCOWzh-GbAkdu4NCrjCdVozaZ3ee08f__TkhWwtbu1la62t5KtdLTzqZhYgQ8ty31J16XWKGMbkkWVke5xaQ3UtjwrFFtGpOzuIqW__ubCZAlygg85cjUj21VtZB39nebah17sSmL_QErmfkuexQ.NJsaR1sLZvy8diMi2BMzWg/proxy/files/pretrained_embeddings_part3.pkl\n",
            "Resolving kkb-production.jupyter-proxy.kaggle.net (kkb-production.jupyter-proxy.kaggle.net)... 35.244.180.134\n",
            "Connecting to kkb-production.jupyter-proxy.kaggle.net (kkb-production.jupyter-proxy.kaggle.net)|35.244.180.134|:443... connected.\n",
            "HTTP request sent, awaiting response... 200 OK\n",
            "Length: 60403587 (58M) [application/octet-stream]\n",
            "Saving to: ‘pretrained_embeddings_part3.pkl’\n",
            "\n",
            "pretrained_embeddin 100%[===================>]  57.60M  62.9MB/s    in 0.9s    \n",
            "\n",
            "2023-07-17 12:13:53 (62.9 MB/s) - ‘pretrained_embeddings_part3.pkl’ saved [60403587/60403587]\n",
            "\n"
          ]
        }
      ]
    },
    {
      "cell_type": "code",
      "source": [
        "!cp \"/content/pretrained_embeddings_part3.pkl\" \"/content/drive/MyDrive/NLP/pretrained_embeddings_part3.pkl\""
      ],
      "metadata": {
        "id": "jrAk9_P7wBsS"
      },
      "execution_count": null,
      "outputs": []
    },
    {
      "cell_type": "code",
      "source": [
        "!wget \"https://kkb-production.jupyter-proxy.kaggle.net/k/137021302/eyJhbGciOiJkaXIiLCJlbmMiOiJBMTI4Q0JDLUhTMjU2IiwidHlwIjoiSldUIn0..3UJKken_TXn4_HRXYglXpg.w7KUETmrwd4U3d2RtmzmsljJFT4jguP1AbqS_Ci0EcPYwvWoF4swa_70G0pRbWeZm8vCOWzh-GbAkdu4NCrjCdVozaZ3ee08f__TkhWwtbu1la62t5KtdLTzqZhYgQ8ty31J16XWKGMbkkWVke5xaQ3UtjwrFFtGpOzuIqW__ubCZAlygg85cjUj21VtZB39nebah17sSmL_QErmfkuexQ.NJsaR1sLZvy8diMi2BMzWg/proxy/files/pretrained_embeddings_part4.pkl\""
      ],
      "metadata": {
        "colab": {
          "base_uri": "https://localhost:8080/"
        },
        "id": "OCPG8PfHwBut",
        "outputId": "16d4b086-b7ee-4da0-bc0b-a73ae8b7a699"
      },
      "execution_count": null,
      "outputs": [
        {
          "output_type": "stream",
          "name": "stdout",
          "text": [
            "--2023-07-17 14:08:16--  https://kkb-production.jupyter-proxy.kaggle.net/k/137021302/eyJhbGciOiJkaXIiLCJlbmMiOiJBMTI4Q0JDLUhTMjU2IiwidHlwIjoiSldUIn0..3UJKken_TXn4_HRXYglXpg.w7KUETmrwd4U3d2RtmzmsljJFT4jguP1AbqS_Ci0EcPYwvWoF4swa_70G0pRbWeZm8vCOWzh-GbAkdu4NCrjCdVozaZ3ee08f__TkhWwtbu1la62t5KtdLTzqZhYgQ8ty31J16XWKGMbkkWVke5xaQ3UtjwrFFtGpOzuIqW__ubCZAlygg85cjUj21VtZB39nebah17sSmL_QErmfkuexQ.NJsaR1sLZvy8diMi2BMzWg/proxy/files/pretrained_embeddings_part4.pkl\n",
            "Resolving kkb-production.jupyter-proxy.kaggle.net (kkb-production.jupyter-proxy.kaggle.net)... 35.244.180.134\n",
            "Connecting to kkb-production.jupyter-proxy.kaggle.net (kkb-production.jupyter-proxy.kaggle.net)|35.244.180.134|:443... connected.\n",
            "HTTP request sent, awaiting response... 200 OK\n",
            "Length: 60667983 (58M) [application/octet-stream]\n",
            "Saving to: ‘pretrained_embeddings_part4.pkl’\n",
            "\n",
            "pretrained_embeddin 100%[===================>]  57.86M  54.2MB/s    in 1.1s    \n",
            "\n",
            "2023-07-17 14:08:17 (54.2 MB/s) - ‘pretrained_embeddings_part4.pkl’ saved [60667983/60667983]\n",
            "\n"
          ]
        }
      ]
    },
    {
      "cell_type": "code",
      "source": [
        "!cp \"/content/pretrained_embeddings_part4.pkl\" \"/content/drive/MyDrive/NLP/pretrained_embeddings_part4.pkl\""
      ],
      "metadata": {
        "id": "Hn5SdvR_LAZ4"
      },
      "execution_count": null,
      "outputs": []
    },
    {
      "cell_type": "code",
      "source": [
        "!wget \"https://kkb-production.jupyter-proxy.kaggle.net/k/137021302/eyJhbGciOiJkaXIiLCJlbmMiOiJBMTI4Q0JDLUhTMjU2IiwidHlwIjoiSldUIn0..3UJKken_TXn4_HRXYglXpg.w7KUETmrwd4U3d2RtmzmsljJFT4jguP1AbqS_Ci0EcPYwvWoF4swa_70G0pRbWeZm8vCOWzh-GbAkdu4NCrjCdVozaZ3ee08f__TkhWwtbu1la62t5KtdLTzqZhYgQ8ty31J16XWKGMbkkWVke5xaQ3UtjwrFFtGpOzuIqW__ubCZAlygg85cjUj21VtZB39nebah17sSmL_QErmfkuexQ.NJsaR1sLZvy8diMi2BMzWg/proxy/files/pretrained_embeddings_part5.pkl\""
      ],
      "metadata": {
        "colab": {
          "base_uri": "https://localhost:8080/"
        },
        "id": "zJBRY1-_LAcL",
        "outputId": "0c26339e-d5d5-4507-d2d1-05a8b0eca5d0"
      },
      "execution_count": null,
      "outputs": [
        {
          "output_type": "stream",
          "name": "stdout",
          "text": [
            "--2023-07-17 16:39:19--  https://kkb-production.jupyter-proxy.kaggle.net/k/137021302/eyJhbGciOiJkaXIiLCJlbmMiOiJBMTI4Q0JDLUhTMjU2IiwidHlwIjoiSldUIn0..3UJKken_TXn4_HRXYglXpg.w7KUETmrwd4U3d2RtmzmsljJFT4jguP1AbqS_Ci0EcPYwvWoF4swa_70G0pRbWeZm8vCOWzh-GbAkdu4NCrjCdVozaZ3ee08f__TkhWwtbu1la62t5KtdLTzqZhYgQ8ty31J16XWKGMbkkWVke5xaQ3UtjwrFFtGpOzuIqW__ubCZAlygg85cjUj21VtZB39nebah17sSmL_QErmfkuexQ.NJsaR1sLZvy8diMi2BMzWg/proxy/files/pretrained_embeddings_part5.pkl\n",
            "Resolving kkb-production.jupyter-proxy.kaggle.net (kkb-production.jupyter-proxy.kaggle.net)... 35.244.180.134\n",
            "Connecting to kkb-production.jupyter-proxy.kaggle.net (kkb-production.jupyter-proxy.kaggle.net)|35.244.180.134|:443... connected.\n",
            "HTTP request sent, awaiting response... 200 OK\n",
            "Length: 60502740 (58M) [application/octet-stream]\n",
            "Saving to: ‘pretrained_embeddings_part5.pkl’\n",
            "\n",
            "pretrained_embeddin 100%[===================>]  57.70M  54.2MB/s    in 1.1s    \n",
            "\n",
            "2023-07-17 16:39:20 (54.2 MB/s) - ‘pretrained_embeddings_part5.pkl’ saved [60502740/60502740]\n",
            "\n"
          ]
        }
      ]
    },
    {
      "cell_type": "code",
      "source": [
        "!cp \"/content/pretrained_embeddings_part5.pkl\" \"/content/drive/MyDrive/NLP/pretrained_embeddings_part5.pkl\""
      ],
      "metadata": {
        "id": "II5-I0hsLAez"
      },
      "execution_count": null,
      "outputs": []
    },
    {
      "cell_type": "code",
      "source": [
        "!wget \"https://kkb-production.jupyter-proxy.kaggle.net/k/137077575/eyJhbGciOiJkaXIiLCJlbmMiOiJBMTI4Q0JDLUhTMjU2IiwidHlwIjoiSldUIn0..Oggwju4nhrZXHFWNj8akPg.tQlXr6z41LaEmFn6edqXYpWHqM7qSEx_2Wd7n37A6NMdaERH13-ow-4Hmj2Fnqs7kurNQpW_eah-_KZcJA7e_m0EAx3om9MtROf6g0iuuF34Ua__xYg7Q8TfgNkcfZgo2sxsZ9HkS9nCInbbNOcSHrgGxXrX-vSzvtAkIpDLRM98Rm5iDvEZqTg-EJhBjBUERDMMEWBhy7tOK3SUozvpCw.xV597-rpdUVswM_oQ8fPJA/proxy/files/pretrained_embeddings_part6.pkl\""
      ],
      "metadata": {
        "id": "2GWTuqUquI-O",
        "colab": {
          "base_uri": "https://localhost:8080/"
        },
        "outputId": "1e3124ac-1bdf-43da-f107-0639c10f5711"
      },
      "execution_count": null,
      "outputs": [
        {
          "output_type": "stream",
          "name": "stdout",
          "text": [
            "--2023-07-17 20:49:09--  https://kkb-production.jupyter-proxy.kaggle.net/k/137077575/eyJhbGciOiJkaXIiLCJlbmMiOiJBMTI4Q0JDLUhTMjU2IiwidHlwIjoiSldUIn0..Oggwju4nhrZXHFWNj8akPg.tQlXr6z41LaEmFn6edqXYpWHqM7qSEx_2Wd7n37A6NMdaERH13-ow-4Hmj2Fnqs7kurNQpW_eah-_KZcJA7e_m0EAx3om9MtROf6g0iuuF34Ua__xYg7Q8TfgNkcfZgo2sxsZ9HkS9nCInbbNOcSHrgGxXrX-vSzvtAkIpDLRM98Rm5iDvEZqTg-EJhBjBUERDMMEWBhy7tOK3SUozvpCw.xV597-rpdUVswM_oQ8fPJA/proxy/files/pretrained_embeddings_part6.pkl\n",
            "Resolving kkb-production.jupyter-proxy.kaggle.net (kkb-production.jupyter-proxy.kaggle.net)... 35.244.180.134\n",
            "Connecting to kkb-production.jupyter-proxy.kaggle.net (kkb-production.jupyter-proxy.kaggle.net)|35.244.180.134|:443... connected.\n",
            "HTTP request sent, awaiting response... 200 OK\n",
            "Length: 60403587 (58M) [application/octet-stream]\n",
            "Saving to: ‘pretrained_embeddings_part6.pkl’\n",
            "\n",
            "pretrained_embeddin 100%[===================>]  57.60M  15.1MB/s    in 5.0s    \n",
            "\n",
            "2023-07-17 20:49:15 (11.5 MB/s) - ‘pretrained_embeddings_part6.pkl’ saved [60403587/60403587]\n",
            "\n"
          ]
        }
      ]
    },
    {
      "cell_type": "code",
      "source": [
        "!cp \"/content/pretrained_embeddings_part6.pkl\" \"/content/drive/MyDrive/NLP/pretrained_embeddings_part6.pkl\""
      ],
      "metadata": {
        "id": "1lag0FwVm0-s"
      },
      "execution_count": null,
      "outputs": []
    },
    {
      "cell_type": "code",
      "source": [
        "!wget https://kkb-production.jupyter-proxy.kaggle.net/k/137077575/eyJhbGciOiJkaXIiLCJlbmMiOiJBMTI4Q0JDLUhTMjU2IiwidHlwIjoiSldUIn0..Oggwju4nhrZXHFWNj8akPg.tQlXr6z41LaEmFn6edqXYpWHqM7qSEx_2Wd7n37A6NMdaERH13-ow-4Hmj2Fnqs7kurNQpW_eah-_KZcJA7e_m0EAx3om9MtROf6g0iuuF34Ua__xYg7Q8TfgNkcfZgo2sxsZ9HkS9nCInbbNOcSHrgGxXrX-vSzvtAkIpDLRM98Rm5iDvEZqTg-EJhBjBUERDMMEWBhy7tOK3SUozvpCw.xV597-rpdUVswM_oQ8fPJA/proxy/files/pretrained_embeddings_part7.pkl"
      ],
      "metadata": {
        "colab": {
          "base_uri": "https://localhost:8080/"
        },
        "id": "1GPAeVtJnQW_",
        "outputId": "228d76e5-22e4-4fb0-c33b-d50168dd75e9"
      },
      "execution_count": null,
      "outputs": [
        {
          "output_type": "stream",
          "name": "stdout",
          "text": [
            "--2023-07-17 22:43:48--  https://kkb-production.jupyter-proxy.kaggle.net/k/137077575/eyJhbGciOiJkaXIiLCJlbmMiOiJBMTI4Q0JDLUhTMjU2IiwidHlwIjoiSldUIn0..Oggwju4nhrZXHFWNj8akPg.tQlXr6z41LaEmFn6edqXYpWHqM7qSEx_2Wd7n37A6NMdaERH13-ow-4Hmj2Fnqs7kurNQpW_eah-_KZcJA7e_m0EAx3om9MtROf6g0iuuF34Ua__xYg7Q8TfgNkcfZgo2sxsZ9HkS9nCInbbNOcSHrgGxXrX-vSzvtAkIpDLRM98Rm5iDvEZqTg-EJhBjBUERDMMEWBhy7tOK3SUozvpCw.xV597-rpdUVswM_oQ8fPJA/proxy/files/pretrained_embeddings_part7.pkl\n",
            "Resolving kkb-production.jupyter-proxy.kaggle.net (kkb-production.jupyter-proxy.kaggle.net)... 35.244.180.134\n",
            "Connecting to kkb-production.jupyter-proxy.kaggle.net (kkb-production.jupyter-proxy.kaggle.net)|35.244.180.134|:443... connected.\n",
            "HTTP request sent, awaiting response... 200 OK\n",
            "Length: 60667983 (58M) [application/octet-stream]\n",
            "Saving to: ‘pretrained_embeddings_part7.pkl’\n",
            "\n",
            "pretrained_embeddin 100%[===================>]  57.86M  15.3MB/s    in 5.0s    \n",
            "\n",
            "2023-07-17 22:43:54 (11.6 MB/s) - ‘pretrained_embeddings_part7.pkl’ saved [60667983/60667983]\n",
            "\n"
          ]
        }
      ]
    },
    {
      "cell_type": "code",
      "source": [
        "!cp \"/content/pretrained_embeddings_part7.pkl\" \"/content/drive/MyDrive/NLP/pretrained_embeddings_part7.pkl\""
      ],
      "metadata": {
        "id": "EBlyZmkdBZfT"
      },
      "execution_count": null,
      "outputs": []
    },
    {
      "cell_type": "code",
      "source": [
        "!wget \"https://kkb-production.jupyter-proxy.kaggle.net/k/137112187/eyJhbGciOiJkaXIiLCJlbmMiOiJBMTI4Q0JDLUhTMjU2IiwidHlwIjoiSldUIn0..oniv3URz_B87uu2qI3b9eg.lSHdctwiafI6YFqQyDfofU6-XUlp8uiS7-GsO2lXFsEpHmBWXKoBloyKM_SDa-X_-36jnqijmPtrdUVHJTObnCJEei24w0tnEhaWKiNH2hLhU_7lQONZMQmGDtoI8pmfYCKBr8m9XxF01_jkL0X5s8oJh6dl6xkEFkCzUFJBvuczWpXL3skxsFKTaKQ4QONUjnvZb9lZmuZ4yfxS4E9Jig.yXokbEMkDE1HVEmX7XwejA/proxy/files/pretrained_embeddings_part8.pkl\""
      ],
      "metadata": {
        "colab": {
          "base_uri": "https://localhost:8080/"
        },
        "id": "Ao8deTVaBZh4",
        "outputId": "63ace7fa-0a60-4ef4-8b1c-b24ce43f4d00"
      },
      "execution_count": null,
      "outputs": [
        {
          "output_type": "stream",
          "name": "stdout",
          "text": [
            "--2023-07-18 06:59:55--  https://kkb-production.jupyter-proxy.kaggle.net/k/137112187/eyJhbGciOiJkaXIiLCJlbmMiOiJBMTI4Q0JDLUhTMjU2IiwidHlwIjoiSldUIn0..oniv3URz_B87uu2qI3b9eg.lSHdctwiafI6YFqQyDfofU6-XUlp8uiS7-GsO2lXFsEpHmBWXKoBloyKM_SDa-X_-36jnqijmPtrdUVHJTObnCJEei24w0tnEhaWKiNH2hLhU_7lQONZMQmGDtoI8pmfYCKBr8m9XxF01_jkL0X5s8oJh6dl6xkEFkCzUFJBvuczWpXL3skxsFKTaKQ4QONUjnvZb9lZmuZ4yfxS4E9Jig.yXokbEMkDE1HVEmX7XwejA/proxy/files/pretrained_embeddings_part8.pkl\n",
            "Resolving kkb-production.jupyter-proxy.kaggle.net (kkb-production.jupyter-proxy.kaggle.net)... 35.244.180.134\n",
            "Connecting to kkb-production.jupyter-proxy.kaggle.net (kkb-production.jupyter-proxy.kaggle.net)|35.244.180.134|:443... connected.\n",
            "HTTP request sent, awaiting response... 200 OK\n",
            "Length: 60667983 (58M) [application/octet-stream]\n",
            "Saving to: ‘pretrained_embeddings_part8.pkl’\n",
            "\n",
            "pretrained_embeddin 100%[===================>]  57.86M   164MB/s    in 0.4s    \n",
            "\n",
            "2023-07-18 06:59:55 (164 MB/s) - ‘pretrained_embeddings_part8.pkl’ saved [60667983/60667983]\n",
            "\n"
          ]
        }
      ]
    },
    {
      "cell_type": "code",
      "source": [
        "!cp \"/content/pretrained_embeddings_part8.pkl\" \"/content/drive/MyDrive/NLP/pretrained_embeddings_part8.pkl\""
      ],
      "metadata": {
        "id": "pjyuw370BZkj"
      },
      "execution_count": null,
      "outputs": []
    },
    {
      "cell_type": "code",
      "source": [
        "!wget \"https://kkb-production.jupyter-proxy.kaggle.net/k/137112187/eyJhbGciOiJkaXIiLCJlbmMiOiJBMTI4Q0JDLUhTMjU2IiwidHlwIjoiSldUIn0..oniv3URz_B87uu2qI3b9eg.lSHdctwiafI6YFqQyDfofU6-XUlp8uiS7-GsO2lXFsEpHmBWXKoBloyKM_SDa-X_-36jnqijmPtrdUVHJTObnCJEei24w0tnEhaWKiNH2hLhU_7lQONZMQmGDtoI8pmfYCKBr8m9XxF01_jkL0X5s8oJh6dl6xkEFkCzUFJBvuczWpXL3skxsFKTaKQ4QONUjnvZb9lZmuZ4yfxS4E9Jig.yXokbEMkDE1HVEmX7XwejA/proxy/files/pretrained_embeddings_part9.pkl\""
      ],
      "metadata": {
        "colab": {
          "base_uri": "https://localhost:8080/"
        },
        "id": "Gbq7CQl3Bbop",
        "outputId": "1b896338-540c-4294-e574-135baf24bde5"
      },
      "execution_count": null,
      "outputs": [
        {
          "output_type": "stream",
          "name": "stdout",
          "text": [
            "--2023-07-18 07:02:17--  https://kkb-production.jupyter-proxy.kaggle.net/k/137112187/eyJhbGciOiJkaXIiLCJlbmMiOiJBMTI4Q0JDLUhTMjU2IiwidHlwIjoiSldUIn0..oniv3URz_B87uu2qI3b9eg.lSHdctwiafI6YFqQyDfofU6-XUlp8uiS7-GsO2lXFsEpHmBWXKoBloyKM_SDa-X_-36jnqijmPtrdUVHJTObnCJEei24w0tnEhaWKiNH2hLhU_7lQONZMQmGDtoI8pmfYCKBr8m9XxF01_jkL0X5s8oJh6dl6xkEFkCzUFJBvuczWpXL3skxsFKTaKQ4QONUjnvZb9lZmuZ4yfxS4E9Jig.yXokbEMkDE1HVEmX7XwejA/proxy/files/pretrained_embeddings_part9.pkl\n",
            "Resolving kkb-production.jupyter-proxy.kaggle.net (kkb-production.jupyter-proxy.kaggle.net)... 35.244.180.134\n",
            "Connecting to kkb-production.jupyter-proxy.kaggle.net (kkb-production.jupyter-proxy.kaggle.net)|35.244.180.134|:443... connected.\n",
            "HTTP request sent, awaiting response... 200 OK\n",
            "Length: 60656968 (58M) [application/octet-stream]\n",
            "Saving to: ‘pretrained_embeddings_part9.pkl’\n",
            "\n",
            "pretrained_embeddin 100%[===================>]  57.85M   155MB/s    in 0.4s    \n",
            "\n",
            "2023-07-18 07:02:17 (155 MB/s) - ‘pretrained_embeddings_part9.pkl’ saved [60656968/60656968]\n",
            "\n"
          ]
        }
      ]
    },
    {
      "cell_type": "code",
      "source": [
        "!cp \"/content/pretrained_embeddings_part9.pkl\" \"/content/drive/MyDrive/NLP/pretrained_embeddings_part9.pkl\""
      ],
      "metadata": {
        "id": "N4PCS9RmBbrg"
      },
      "execution_count": null,
      "outputs": []
    },
    {
      "cell_type": "code",
      "source": [
        "!wget \"https://kkb-production.jupyter-proxy.kaggle.net/k/137112187/eyJhbGciOiJkaXIiLCJlbmMiOiJBMTI4Q0JDLUhTMjU2IiwidHlwIjoiSldUIn0..oniv3URz_B87uu2qI3b9eg.lSHdctwiafI6YFqQyDfofU6-XUlp8uiS7-GsO2lXFsEpHmBWXKoBloyKM_SDa-X_-36jnqijmPtrdUVHJTObnCJEei24w0tnEhaWKiNH2hLhU_7lQONZMQmGDtoI8pmfYCKBr8m9XxF01_jkL0X5s8oJh6dl6xkEFkCzUFJBvuczWpXL3skxsFKTaKQ4QONUjnvZb9lZmuZ4yfxS4E9Jig.yXokbEMkDE1HVEmX7XwejA/proxy/files/pretrained_embeddings_part10.pkl\""
      ],
      "metadata": {
        "colab": {
          "base_uri": "https://localhost:8080/"
        },
        "id": "_RasqFaFBbuE",
        "outputId": "61f2e78a-a4c7-4b55-c9e5-0c745e920c68"
      },
      "execution_count": null,
      "outputs": [
        {
          "output_type": "stream",
          "name": "stdout",
          "text": [
            "--2023-07-18 07:02:25--  https://kkb-production.jupyter-proxy.kaggle.net/k/137112187/eyJhbGciOiJkaXIiLCJlbmMiOiJBMTI4Q0JDLUhTMjU2IiwidHlwIjoiSldUIn0..oniv3URz_B87uu2qI3b9eg.lSHdctwiafI6YFqQyDfofU6-XUlp8uiS7-GsO2lXFsEpHmBWXKoBloyKM_SDa-X_-36jnqijmPtrdUVHJTObnCJEei24w0tnEhaWKiNH2hLhU_7lQONZMQmGDtoI8pmfYCKBr8m9XxF01_jkL0X5s8oJh6dl6xkEFkCzUFJBvuczWpXL3skxsFKTaKQ4QONUjnvZb9lZmuZ4yfxS4E9Jig.yXokbEMkDE1HVEmX7XwejA/proxy/files/pretrained_embeddings_part10.pkl\n",
            "Resolving kkb-production.jupyter-proxy.kaggle.net (kkb-production.jupyter-proxy.kaggle.net)... 35.244.180.134\n",
            "Connecting to kkb-production.jupyter-proxy.kaggle.net (kkb-production.jupyter-proxy.kaggle.net)|35.244.180.134|:443... connected.\n",
            "HTTP request sent, awaiting response... 200 OK\n",
            "Length: 60348512 (58M) [application/octet-stream]\n",
            "Saving to: ‘pretrained_embeddings_part10.pkl’\n",
            "\n",
            "pretrained_embeddin 100%[===================>]  57.55M  99.8MB/s    in 0.6s    \n",
            "\n",
            "2023-07-18 07:02:25 (99.8 MB/s) - ‘pretrained_embeddings_part10.pkl’ saved [60348512/60348512]\n",
            "\n"
          ]
        }
      ]
    },
    {
      "cell_type": "code",
      "source": [
        "!cp \"/content/pretrained_embeddings_part10.pkl\" \"/content/drive/MyDrive/NLP/pretrained_embeddings_part10.pkl\""
      ],
      "metadata": {
        "id": "P5Riqn6EBbxB"
      },
      "execution_count": null,
      "outputs": []
    },
    {
      "cell_type": "code",
      "source": [
        "!wget \"https://kkb-production.jupyter-proxy.kaggle.net/k/137112187/eyJhbGciOiJkaXIiLCJlbmMiOiJBMTI4Q0JDLUhTMjU2IiwidHlwIjoiSldUIn0..oniv3URz_B87uu2qI3b9eg.lSHdctwiafI6YFqQyDfofU6-XUlp8uiS7-GsO2lXFsEpHmBWXKoBloyKM_SDa-X_-36jnqijmPtrdUVHJTObnCJEei24w0tnEhaWKiNH2hLhU_7lQONZMQmGDtoI8pmfYCKBr8m9XxF01_jkL0X5s8oJh6dl6xkEFkCzUFJBvuczWpXL3skxsFKTaKQ4QONUjnvZb9lZmuZ4yfxS4E9Jig.yXokbEMkDE1HVEmX7XwejA/proxy/files/pretrained_embeddings.zip\""
      ],
      "metadata": {
        "colab": {
          "base_uri": "https://localhost:8080/"
        },
        "id": "cuscygkXzq1F",
        "outputId": "b0fd98d5-2c01-42b0-ded3-d6675084c0b2"
      },
      "execution_count": null,
      "outputs": [
        {
          "output_type": "stream",
          "name": "stdout",
          "text": [
            "--2023-07-18 07:04:08--  https://kkb-production.jupyter-proxy.kaggle.net/k/137112187/eyJhbGciOiJkaXIiLCJlbmMiOiJBMTI4Q0JDLUhTMjU2IiwidHlwIjoiSldUIn0..oniv3URz_B87uu2qI3b9eg.lSHdctwiafI6YFqQyDfofU6-XUlp8uiS7-GsO2lXFsEpHmBWXKoBloyKM_SDa-X_-36jnqijmPtrdUVHJTObnCJEei24w0tnEhaWKiNH2hLhU_7lQONZMQmGDtoI8pmfYCKBr8m9XxF01_jkL0X5s8oJh6dl6xkEFkCzUFJBvuczWpXL3skxsFKTaKQ4QONUjnvZb9lZmuZ4yfxS4E9Jig.yXokbEMkDE1HVEmX7XwejA/proxy/files/pretrained_embeddings.zip\n",
            "Resolving kkb-production.jupyter-proxy.kaggle.net (kkb-production.jupyter-proxy.kaggle.net)... 35.244.180.134\n",
            "Connecting to kkb-production.jupyter-proxy.kaggle.net (kkb-production.jupyter-proxy.kaggle.net)|35.244.180.134|:443... connected.\n",
            "HTTP request sent, awaiting response... 200 OK\n",
            "Length: 602204909 (574M) [application/zip]\n",
            "Saving to: ‘pretrained_embeddings.zip’\n",
            "\n",
            "pretrained_embeddin 100%[===================>] 574.31M   206MB/s    in 2.8s    \n",
            "\n",
            "2023-07-18 07:04:10 (206 MB/s) - ‘pretrained_embeddings.zip’ saved [602204909/602204909]\n",
            "\n"
          ]
        }
      ]
    },
    {
      "cell_type": "code",
      "source": [
        "!cp \"/content/pretrained_embeddings.zip\" \"/content/drive/MyDrive/NLP/pretrained_embeddings.zip\""
      ],
      "metadata": {
        "id": "O4z-KRC70DjI"
      },
      "execution_count": null,
      "outputs": []
    },
    {
      "cell_type": "code",
      "source": [
        "!wget \"https://kkb-production.jupyter-proxy.kaggle.net/k/137670960/eyJhbGciOiJkaXIiLCJlbmMiOiJBMTI4Q0JDLUhTMjU2IiwidHlwIjoiSldUIn0..2GS-cXf5KAs9k4B96suTDQ.awoSfmUH1_4mSdCmbRFT_1ZUNZbRCypFXebUrxJpd5YJjuK7Ez3tyckiNFXxw8X6rfQybdotseFEZ0zt4oTxy_xHe9OWqMn21L7osvoWdAptiAyQOZHiSy7XUfd7n2YT84WxsOyZ_1tJgk2EN6xxRU7SE0n2HPAsQ1qE7jswMNTISYQawOTHKvlrqAwK3-jBst8hHcnypRxePljSNGSpFA.Y_t8TDinYJuIWcBrPYnE-A/proxy/files/fleurs_data.pkl\""
      ],
      "metadata": {
        "id": "zT0-oqSS0IXA",
        "colab": {
          "base_uri": "https://localhost:8080/"
        },
        "outputId": "ef198b8d-cc43-4181-af7b-293480124129"
      },
      "execution_count": null,
      "outputs": [
        {
          "output_type": "stream",
          "name": "stdout",
          "text": [
            "--2023-07-23 20:20:06--  https://kkb-production.jupyter-proxy.kaggle.net/k/137670960/eyJhbGciOiJkaXIiLCJlbmMiOiJBMTI4Q0JDLUhTMjU2IiwidHlwIjoiSldUIn0..2GS-cXf5KAs9k4B96suTDQ.awoSfmUH1_4mSdCmbRFT_1ZUNZbRCypFXebUrxJpd5YJjuK7Ez3tyckiNFXxw8X6rfQybdotseFEZ0zt4oTxy_xHe9OWqMn21L7osvoWdAptiAyQOZHiSy7XUfd7n2YT84WxsOyZ_1tJgk2EN6xxRU7SE0n2HPAsQ1qE7jswMNTISYQawOTHKvlrqAwK3-jBst8hHcnypRxePljSNGSpFA.Y_t8TDinYJuIWcBrPYnE-A/proxy/files/fleurs_data.pkl\n",
            "Resolving kkb-production.jupyter-proxy.kaggle.net (kkb-production.jupyter-proxy.kaggle.net)... 35.244.180.134\n",
            "Connecting to kkb-production.jupyter-proxy.kaggle.net (kkb-production.jupyter-proxy.kaggle.net)|35.244.180.134|:443... connected.\n",
            "HTTP request sent, awaiting response... 200 OK\n",
            "Length: 41249202 (39M) [application/octet-stream]\n",
            "Saving to: ‘fleurs_data.pkl’\n",
            "\n",
            "fleurs_data.pkl     100%[===================>]  39.34M  10.4MB/s    in 4.0s    \n",
            "\n",
            "2023-07-23 20:20:11 (9.91 MB/s) - ‘fleurs_data.pkl’ saved [41249202/41249202]\n",
            "\n"
          ]
        }
      ]
    },
    {
      "cell_type": "code",
      "source": [
        "!cp \"/content/fleurs_data.pkl\" \"/content/drive/MyDrive/NLP/fleurs_data.pkl\""
      ],
      "metadata": {
        "id": "Jl5MX08UL2h9"
      },
      "execution_count": null,
      "outputs": []
    },
    {
      "cell_type": "code",
      "source": [
        "!rm pretrained_embeddings_common_voice.pkl"
      ],
      "metadata": {
        "id": "5yoMesotEy29"
      },
      "execution_count": null,
      "outputs": []
    },
    {
      "cell_type": "code",
      "source": [
        "!wget https://kkb-production.jupyter-proxy.kaggle.net/k/137792321/eyJhbGciOiJkaXIiLCJlbmMiOiJBMTI4Q0JDLUhTMjU2IiwidHlwIjoiSldUIn0..FiYjYs9rPHuvuJX0saRNiQ.HDAkGNXrjseDQ7hlNG5TuqJ077DJaKht1hA4aE-aOF7Us6ALefRDShn70zMXSOFv5fBV30hReNxDLWCTElkdZ2_CSNyS63f1gH1R7zDuIvt8i6zlo7xDpz7o2XOmixwcQOmRoW6KxTn_w_0Kv4lz79_ajsQh6952F-C49k0BuYdSYJ5FTEfdsVBUbZYAHPAmzIjAS5kjQReqPP70FZ9xbg.OOAp5lOuxZl0m9EZNPVe5g/proxy/files/pretrained_embeddings_common_voice.pkl"
      ],
      "metadata": {
        "id": "wdjEbACSaM8F",
        "colab": {
          "base_uri": "https://localhost:8080/"
        },
        "outputId": "b68d65f6-2d70-419b-a639-cecad4bcd892"
      },
      "execution_count": null,
      "outputs": [
        {
          "output_type": "stream",
          "name": "stdout",
          "text": [
            "--2023-07-24 22:44:33--  https://kkb-production.jupyter-proxy.kaggle.net/k/137792321/eyJhbGciOiJkaXIiLCJlbmMiOiJBMTI4Q0JDLUhTMjU2IiwidHlwIjoiSldUIn0..FiYjYs9rPHuvuJX0saRNiQ.HDAkGNXrjseDQ7hlNG5TuqJ077DJaKht1hA4aE-aOF7Us6ALefRDShn70zMXSOFv5fBV30hReNxDLWCTElkdZ2_CSNyS63f1gH1R7zDuIvt8i6zlo7xDpz7o2XOmixwcQOmRoW6KxTn_w_0Kv4lz79_ajsQh6952F-C49k0BuYdSYJ5FTEfdsVBUbZYAHPAmzIjAS5kjQReqPP70FZ9xbg.OOAp5lOuxZl0m9EZNPVe5g/proxy/files/pretrained_embeddings_common_voice.pkl\n",
            "Resolving kkb-production.jupyter-proxy.kaggle.net (kkb-production.jupyter-proxy.kaggle.net)... 35.244.180.134\n",
            "Connecting to kkb-production.jupyter-proxy.kaggle.net (kkb-production.jupyter-proxy.kaggle.net)|35.244.180.134|:443... connected.\n",
            "HTTP request sent, awaiting response... 200 OK\n",
            "Length: 624116526 (595M) [application/octet-stream]\n",
            "Saving to: ‘pretrained_embeddings_common_voice.pkl’\n",
            "\n",
            "pretrained_embeddin 100%[===================>] 595.20M  42.8MB/s    in 15s     \n",
            "\n",
            "2023-07-24 22:44:48 (39.2 MB/s) - ‘pretrained_embeddings_common_voice.pkl’ saved [624116526/624116526]\n",
            "\n"
          ]
        }
      ]
    },
    {
      "cell_type": "code",
      "source": [
        "!cp \"/content/pretrained_embeddings_common_voice.pkl\" \"/content/drive/MyDrive/NLP/pretrained_embeddings_common_voice.pkl\""
      ],
      "metadata": {
        "id": "Dj-VjhmQCcR1"
      },
      "execution_count": null,
      "outputs": []
    },
    {
      "cell_type": "code",
      "source": [
        "import pickle\n",
        "with open(f'pretrained_embeddings_common_voice.pkl', 'rb') as f:\n",
        "    data = pickle.load(f)"
      ],
      "metadata": {
        "id": "jVbJlmrYCf7C"
      },
      "execution_count": null,
      "outputs": []
    },
    {
      "cell_type": "code",
      "source": [
        "print(len(data['train']))\n",
        "print(len(data['validation']))\n",
        "print(len(data['test']))"
      ],
      "metadata": {
        "colab": {
          "base_uri": "https://localhost:8080/"
        },
        "id": "ZjeIbMwoFE__",
        "outputId": "1020de03-c65d-4e76-fa86-bdcc67dcc15f"
      },
      "execution_count": null,
      "outputs": [
        {
          "output_type": "stream",
          "name": "stdout",
          "text": [
            "50000\n",
            "3492\n",
            "2197\n"
          ]
        }
      ]
    },
    {
      "cell_type": "code",
      "source": [],
      "metadata": {
        "id": "xEA02Sb_FM15"
      },
      "execution_count": null,
      "outputs": []
    }
  ]
}